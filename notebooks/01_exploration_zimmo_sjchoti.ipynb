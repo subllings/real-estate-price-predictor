{
 "cells": [
  {
   "cell_type": "markdown",
   "metadata": {},
   "source": [
    "# Real Estate Data Analysis – ImmoEliza\n",
    "\n",
    "## Project Overview\n",
    "\n",
    "The goal of this challenge is to support the real estate company *ImmoEliza* in its ambition to become the leading real estate player in Belgium. To do so, the company needs a strong pricing strategy based on data.\n",
    "\n",
    "Before building a machine learning model, we will perform a thorough data analysis to:\n",
    "\n",
    "- Understand the structure and content of the dataset\n",
    "- Clean and prepare the data\n",
    "- Extract key insights for business decision-making\n",
    "- Visualize patterns and trends in the Belgian real estate market\n",
    "\n",
    "This project is carried out as part of the `challenge-data-analysis`.\n",
    "\n",
    "## Team Members\n",
    "- [Evi]\n",
    "- [Moussa]\n",
    "- [Yves]\n",
    "\n",
    "## Notebook Structure\n",
    "1. Data loading and exploration  \n",
    "2. Data cleaning  \n",
    "3. Exploratory data analysis (EDA)  \n",
    "4. Guided analysis and visual questions  \n",
    "5. Interpretation and business insights  \n",
    "6. Optional bonus visualizations  \n",
    "7. Export and documentation  "
   ]
  },
  {
   "cell_type": "markdown",
   "metadata": {},
   "source": []
  },
  {
   "cell_type": "markdown",
   "metadata": {},
   "source": [
    "# 1. Data loading and exploration  \n",
    "- 1.1. Import Required Libraries\n",
    "- 1.2. Load the Dataset\n",
    "- 1.3. First Glance at the Data\n",
    "  - Dataset shape\n",
    "  - Column names\n",
    "  - Data types\n",
    "  - First rows (`.head()`)"
   ]
  },
  {
   "cell_type": "markdown",
   "metadata": {},
   "source": [
    "## 1.1. Import Required Libraries"
   ]
  },
  {
   "cell_type": "code",
   "execution_count": 1,
   "metadata": {},
   "outputs": [],
   "source": [
    "import pandas as pd\n",
    "import seaborn as sns\n",
    "import matplotlib.pyplot as plt"
   ]
  },
  {
   "cell_type": "markdown",
   "metadata": {},
   "source": [
    "## 1.2. Load the Dataset\n"
   ]
  },
  {
   "cell_type": "code",
   "execution_count": 2,
   "metadata": {},
   "outputs": [],
   "source": [
    "csv_path = \"../data/zimmo_real_estate_jgchoti.csv\"\n",
    "df = pd.read_csv(csv_path)"
   ]
  },
  {
   "cell_type": "markdown",
   "metadata": {},
   "source": [
    "## 1.3. First Glance at the Data\n",
    "  - Dataset shape\n",
    "  - Column names\n",
    "  - Data types\n",
    "  - First rows (`.head()`)"
   ]
  },
  {
   "cell_type": "code",
   "execution_count": 3,
   "metadata": {},
   "outputs": [
    {
     "name": "stdout",
     "output_type": "stream",
     "text": [
      "Dataset shape: (25403, 18)\n",
      "\n",
      "Column names:\n",
      "['zimmo code', 'type', 'price', 'street', 'number', 'postcode', 'city', 'living area(m²)', 'ground area(m²)', 'bedroom', 'bathroom', 'garage', 'garden', 'EPC(kWh/m²)', 'renovation obligation', 'year built', 'mobiscore', 'url']\n",
      "\n",
      "Data types:\n",
      "zimmo code                object\n",
      "type                      object\n",
      "price                    float64\n",
      "street                    object\n",
      "number                    object\n",
      "postcode                  object\n",
      "city                      object\n",
      "living area(m²)          float64\n",
      "ground area(m²)          float64\n",
      "bedroom                  float64\n",
      "bathroom                 float64\n",
      "garage                   float64\n",
      "garden                      bool\n",
      "EPC(kWh/m²)              float64\n",
      "renovation obligation     object\n",
      "year built               float64\n",
      "mobiscore                float64\n",
      "url                       object\n",
      "dtype: object\n"
     ]
    },
    {
     "data": {
      "text/html": [
       "<div>\n",
       "<style scoped>\n",
       "    .dataframe tbody tr th:only-of-type {\n",
       "        vertical-align: middle;\n",
       "    }\n",
       "\n",
       "    .dataframe tbody tr th {\n",
       "        vertical-align: top;\n",
       "    }\n",
       "\n",
       "    .dataframe thead th {\n",
       "        text-align: right;\n",
       "    }\n",
       "</style>\n",
       "<table border=\"1\" class=\"dataframe\">\n",
       "  <thead>\n",
       "    <tr style=\"text-align: right;\">\n",
       "      <th></th>\n",
       "      <th>zimmo code</th>\n",
       "      <th>type</th>\n",
       "      <th>price</th>\n",
       "      <th>street</th>\n",
       "      <th>number</th>\n",
       "      <th>postcode</th>\n",
       "      <th>city</th>\n",
       "      <th>living area(m²)</th>\n",
       "      <th>ground area(m²)</th>\n",
       "      <th>bedroom</th>\n",
       "      <th>bathroom</th>\n",
       "      <th>garage</th>\n",
       "      <th>garden</th>\n",
       "      <th>EPC(kWh/m²)</th>\n",
       "      <th>renovation obligation</th>\n",
       "      <th>year built</th>\n",
       "      <th>mobiscore</th>\n",
       "      <th>url</th>\n",
       "    </tr>\n",
       "  </thead>\n",
       "  <tbody>\n",
       "    <tr>\n",
       "      <th>0</th>\n",
       "      <td>L97OB</td>\n",
       "      <td>Vakantiewoning (Huis)</td>\n",
       "      <td>25000.0</td>\n",
       "      <td>NaN</td>\n",
       "      <td>NaN</td>\n",
       "      <td>8620</td>\n",
       "      <td>Nieuwpoort</td>\n",
       "      <td>35.0</td>\n",
       "      <td>128.0</td>\n",
       "      <td>2.0</td>\n",
       "      <td>1.0</td>\n",
       "      <td>NaN</td>\n",
       "      <td>False</td>\n",
       "      <td>NaN</td>\n",
       "      <td>False</td>\n",
       "      <td>NaN</td>\n",
       "      <td>7.0</td>\n",
       "      <td>https://www.zimmo.be/nl/nieuwpoort-8620/te-koo...</td>\n",
       "    </tr>\n",
       "    <tr>\n",
       "      <th>1</th>\n",
       "      <td>L9SVC</td>\n",
       "      <td>Appartement</td>\n",
       "      <td>45000.0</td>\n",
       "      <td>NaN</td>\n",
       "      <td>NaN</td>\n",
       "      <td>5570</td>\n",
       "      <td>Beauraing</td>\n",
       "      <td>62.0</td>\n",
       "      <td>NaN</td>\n",
       "      <td>2.0</td>\n",
       "      <td>1.0</td>\n",
       "      <td>NaN</td>\n",
       "      <td>False</td>\n",
       "      <td>NaN</td>\n",
       "      <td>NaN</td>\n",
       "      <td>NaN</td>\n",
       "      <td>NaN</td>\n",
       "      <td>https://www.zimmo.be/nl/beauraing-5570/te-koop...</td>\n",
       "    </tr>\n",
       "    <tr>\n",
       "      <th>2</th>\n",
       "      <td>LA02N</td>\n",
       "      <td>Rijwoning (Huis)</td>\n",
       "      <td>45000.0</td>\n",
       "      <td>Oudestraat</td>\n",
       "      <td>94</td>\n",
       "      <td>9600</td>\n",
       "      <td>Ronse</td>\n",
       "      <td>NaN</td>\n",
       "      <td>232.0</td>\n",
       "      <td>2.0</td>\n",
       "      <td>1.0</td>\n",
       "      <td>NaN</td>\n",
       "      <td>False</td>\n",
       "      <td>716.0</td>\n",
       "      <td>True</td>\n",
       "      <td>1850.0</td>\n",
       "      <td>7.3</td>\n",
       "      <td>https://www.zimmo.be/nl/ronse-9600/te-koop/hui...</td>\n",
       "    </tr>\n",
       "    <tr>\n",
       "      <th>3</th>\n",
       "      <td>L4X2D</td>\n",
       "      <td>Vakantiewoning (Huis)</td>\n",
       "      <td>40000.0</td>\n",
       "      <td>Molenheidestraat</td>\n",
       "      <td>7</td>\n",
       "      <td>3530</td>\n",
       "      <td>Helchteren</td>\n",
       "      <td>45.0</td>\n",
       "      <td>NaN</td>\n",
       "      <td>NaN</td>\n",
       "      <td>NaN</td>\n",
       "      <td>NaN</td>\n",
       "      <td>False</td>\n",
       "      <td>NaN</td>\n",
       "      <td>False</td>\n",
       "      <td>NaN</td>\n",
       "      <td>5.3</td>\n",
       "      <td>https://www.zimmo.be/nl/helchteren-3530/te-koo...</td>\n",
       "    </tr>\n",
       "    <tr>\n",
       "      <th>4</th>\n",
       "      <td>L9KJ7</td>\n",
       "      <td>Eengezinswoning (Huis)</td>\n",
       "      <td>49900.0</td>\n",
       "      <td>Route Napoléon</td>\n",
       "      <td>10</td>\n",
       "      <td>4400</td>\n",
       "      <td>Ivoz-Ramet</td>\n",
       "      <td>123.0</td>\n",
       "      <td>8885.0</td>\n",
       "      <td>2.0</td>\n",
       "      <td>1.0</td>\n",
       "      <td>NaN</td>\n",
       "      <td>False</td>\n",
       "      <td>569.0</td>\n",
       "      <td>NaN</td>\n",
       "      <td>NaN</td>\n",
       "      <td>NaN</td>\n",
       "      <td>https://www.zimmo.be/nl/ivoz-ramet-4400/te-koo...</td>\n",
       "    </tr>\n",
       "  </tbody>\n",
       "</table>\n",
       "</div>"
      ],
      "text/plain": [
       "  zimmo code                    type    price            street number  \\\n",
       "0      L97OB   Vakantiewoning (Huis)  25000.0               NaN    NaN   \n",
       "1      L9SVC             Appartement  45000.0               NaN    NaN   \n",
       "2      LA02N        Rijwoning (Huis)  45000.0        Oudestraat     94   \n",
       "3      L4X2D   Vakantiewoning (Huis)  40000.0  Molenheidestraat      7   \n",
       "4      L9KJ7  Eengezinswoning (Huis)  49900.0    Route Napoléon     10   \n",
       "\n",
       "  postcode        city  living area(m²)  ground area(m²)  bedroom  bathroom  \\\n",
       "0     8620  Nieuwpoort             35.0            128.0      2.0       1.0   \n",
       "1     5570   Beauraing             62.0              NaN      2.0       1.0   \n",
       "2     9600       Ronse              NaN            232.0      2.0       1.0   \n",
       "3     3530  Helchteren             45.0              NaN      NaN       NaN   \n",
       "4     4400  Ivoz-Ramet            123.0           8885.0      2.0       1.0   \n",
       "\n",
       "   garage  garden  EPC(kWh/m²) renovation obligation  year built  mobiscore  \\\n",
       "0     NaN   False          NaN                 False         NaN        7.0   \n",
       "1     NaN   False          NaN                   NaN         NaN        NaN   \n",
       "2     NaN   False        716.0                  True      1850.0        7.3   \n",
       "3     NaN   False          NaN                 False         NaN        5.3   \n",
       "4     NaN   False        569.0                   NaN         NaN        NaN   \n",
       "\n",
       "                                                 url  \n",
       "0  https://www.zimmo.be/nl/nieuwpoort-8620/te-koo...  \n",
       "1  https://www.zimmo.be/nl/beauraing-5570/te-koop...  \n",
       "2  https://www.zimmo.be/nl/ronse-9600/te-koop/hui...  \n",
       "3  https://www.zimmo.be/nl/helchteren-3530/te-koo...  \n",
       "4  https://www.zimmo.be/nl/ivoz-ramet-4400/te-koo...  "
      ]
     },
     "execution_count": 3,
     "metadata": {},
     "output_type": "execute_result"
    }
   ],
   "source": [
    "# Display dataset shape: number of rows and columns\n",
    "print(\"Dataset shape:\", df.shape)\n",
    "\n",
    "# Display column names\n",
    "print(\"\\nColumn names:\")\n",
    "print(df.columns.tolist())\n",
    "\n",
    "# Display data types\n",
    "print(\"\\nData types:\")\n",
    "print(df.dtypes)\n",
    "\n",
    "# Display the first 5 rows\n",
    "df.head()"
   ]
  },
  {
   "cell_type": "markdown",
   "metadata": {},
   "source": [
    "# 2. Data cleaning \n",
    "- 2.1. Remove Duplicates\n",
    "- 2.2. Handle Missing Values\n",
    "- 2.3. Clean Whitespace and Fix Formatting\n",
    "- 2.4. Save Cleaned Dataset (Optional)"
   ]
  },
  {
   "cell_type": "code",
   "execution_count": null,
   "metadata": {},
   "outputs": [
    {
     "data": {
      "text/plain": [
       "garage                   16544\n",
       "ground area(m²)          10627\n",
       "EPC(kWh/m²)               7936\n",
       "year built                7642\n",
       "mobiscore                 5300\n",
       "bathroom                  4630\n",
       "bedroom                   3116\n",
       "living area(m²)           2467\n",
       "type                         0\n",
       "zimmo code                   0\n",
       "city                         0\n",
       "street                       0\n",
       "number                       0\n",
       "postcode                     0\n",
       "price                        0\n",
       "garden                       0\n",
       "renovation obligation        0\n",
       "url                          0\n",
       "dtype: int64"
      ]
     },
     "execution_count": 5,
     "metadata": {},
     "output_type": "execute_result"
    }
   ],
   "source": [
    "#Remove duplicates\n",
    "df = df.drop_duplicates()\n",
    "\n",
    "#Remove all white spaces \n",
    "df.columns = df.columns.str.strip()\n",
    "#Remoce spaces from all string cells & Replace missing values as NA\n",
    "for col in df.select_dtypes(include=\"object\"):\n",
    "    df[col] = df[col].astype(str).str.strip()\n",
    "\n",
    "df.replace(\"\", pd.NA, inplace=True)\n",
    "df.replace(\" \", pd.NA, inplace=True)\n",
    "\n",
    "#Quick diagnostic tool - See the missing values\n",
    "df.isna().sum().sort_values(ascending=False)\n",
    "#From results no missing values for type, price, city etc. A lot of missing values for garage, EPC, ground area.\n",
    "\n",
    "\n"
   ]
  },
  {
   "cell_type": "markdown",
   "metadata": {},
   "source": [
    "# 3. Exploratory data analysis (EDA) \n",
    "- 3.1. Variable Types: Quantitative vs Qualitative\n",
    "- 3.2. Missing Values Overview\n",
    "- 3.3. Descriptive Statistics (Mean, Median, etc.)\n",
    "- 3.4. Distribution Visualizations\n",
    "  - Histograms\n",
    "  - Boxplots\n",
    "- 3.5. Correlation Matrix & Heatmap\n",
    "- 3.6. Outlier Detection"
   ]
  },
  {
   "cell_type": "code",
   "execution_count": null,
   "metadata": {},
   "outputs": [],
   "source": []
  },
  {
   "cell_type": "markdown",
   "metadata": {},
   "source": [
    "# 4. Guided analysis and visual questions  \n",
    "- 4.1. Most & Least Expensive Municipalities\n",
    "  - Belgium, Wallonia, Flanders\n",
    "  - Avg / Median / Price per m<sup>2</sup>\n",
    "-  4.2. Most Influential Variables on Price\n",
    "-  4.3. Variables with Low or No Impact\n",
    "-  4.4. Histogram: Properties by Surface\n",
    "-  4.5. Encoding Strategy for Categorical Variables"
   ]
  },
  {
   "cell_type": "code",
   "execution_count": null,
   "metadata": {},
   "outputs": [],
   "source": []
  },
  {
   "cell_type": "markdown",
   "metadata": {},
   "source": [
    "# 5. Interpretation and Business Insights\n",
    "- 5.1. Summary of Key Findings\n",
    "- 5.2. Business Recommendations for ImmoEliza\n",
    "- 5.3. Data Limitations"
   ]
  },
  {
   "cell_type": "code",
   "execution_count": null,
   "metadata": {},
   "outputs": [],
   "source": []
  },
  {
   "cell_type": "markdown",
   "metadata": {},
   "source": [
    "# 6. Optional bonus visualizations \n",
    "-  6.1. Geo Mapping (price per region/municipality)\n",
    "-  6.2. Trendlines or Regression Analysis\n",
    "-  6.3. Clustering or Time Evolution (if available)"
   ]
  },
  {
   "cell_type": "code",
   "execution_count": null,
   "metadata": {},
   "outputs": [],
   "source": []
  },
  {
   "cell_type": "markdown",
   "metadata": {},
   "source": [
    "# 7. Export and documentation  \n",
    "- 7.1. Export Final Clean Dataset\n",
    "- 7.2. Save Visuals and Aggregated Tables\n",
    "- 7.3. Final README Content\n",
    "  - Project description\n",
    "  - Installation\n",
    "  - Usage\n",
    "  - Visual examples\n",
    "  - Team & timeline"
   ]
  }
 ],
 "metadata": {
  "kernelspec": {
   "display_name": ".venv",
   "language": "python",
   "name": "python3"
  },
  "language_info": {
   "codemirror_mode": {
    "name": "ipython",
    "version": 3
   },
   "file_extension": ".py",
   "mimetype": "text/x-python",
   "name": "python",
   "nbconvert_exporter": "python",
   "pygments_lexer": "ipython3",
   "version": "3.12.3"
  }
 },
 "nbformat": 4,
 "nbformat_minor": 2
}
